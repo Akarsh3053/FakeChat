{
 "cells": [
  {
   "cell_type": "code",
   "execution_count": null,
   "id": "5ab34719",
   "metadata": {},
   "outputs": [],
   "source": [
    "import re\n",
    "import pandas as pd"
   ]
  },
  {
   "cell_type": "code",
   "execution_count": null,
   "id": "1f27486a",
   "metadata": {},
   "outputs": [],
   "source": [
    "pattern = r'([a-zA-Z\\s]+):(.+)'"
   ]
  },
  {
   "cell_type": "code",
   "execution_count": null,
   "id": "980511dd",
   "metadata": {},
   "outputs": [],
   "source": [
    "data = {\n",
    "    'name' : [],\n",
    "    'line' : []\n",
    "}"
   ]
  },
  {
   "cell_type": "markdown",
   "id": "3fc51a9a-c62b-4443-a51c-38b30f58b3c6",
   "metadata": {},
   "source": [
    "# Add your own coversation transcript file."
   ]
  },
  {
   "cell_type": "code",
   "execution_count": null,
   "id": "7fbd9970",
   "metadata": {},
   "outputs": [],
   "source": [
    "with open('YOUR_SCRIPT', 'rt') as file:\n",
    "    for line in file.readlines():\n",
    "        match = re.findall(pattern,line)\n",
    "        if match:\n",
    "            name,line = match[0]\n",
    "            data['name'].append(name)\n",
    "            data['line'].append(line)"
   ]
  },
  {
   "cell_type": "code",
   "execution_count": null,
   "id": "b5729abc",
   "metadata": {},
   "outputs": [],
   "source": [
    "df = pd.DataFrame(data)"
   ]
  },
  {
   "cell_type": "code",
   "execution_count": null,
   "id": "81a0717d",
   "metadata": {},
   "outputs": [],
   "source": [
    "df.head()"
   ]
  },
  {
   "cell_type": "markdown",
   "id": "a661ef38-5226-4b21-a115-221da088a3f2",
   "metadata": {},
   "source": [
    "## Check How many dialogues a Character has"
   ]
  },
  {
   "cell_type": "code",
   "execution_count": null,
   "id": "db132a75",
   "metadata": {},
   "outputs": [],
   "source": [
    "sum(df['name'] == 'CHARACTER_NAME')"
   ]
  },
  {
   "cell_type": "code",
   "execution_count": null,
   "id": "3aba29ca",
   "metadata": {},
   "outputs": [],
   "source": [
    "len(df) #Check length of dataset"
   ]
  },
  {
   "cell_type": "code",
   "execution_count": null,
   "id": "33d24dd8",
   "metadata": {},
   "outputs": [],
   "source": [
    "df.to_csv('data.csv', index=False)"
   ]
  }
 ],
 "metadata": {
  "kernelspec": {
   "display_name": "Python 3 (ipykernel)",
   "language": "python",
   "name": "python3"
  },
  "language_info": {
   "codemirror_mode": {
    "name": "ipython",
    "version": 3
   },
   "file_extension": ".py",
   "mimetype": "text/x-python",
   "name": "python",
   "nbconvert_exporter": "python",
   "pygments_lexer": "ipython3",
   "version": "3.10.11"
  }
 },
 "nbformat": 4,
 "nbformat_minor": 5
}
